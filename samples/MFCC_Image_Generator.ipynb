{
 "cells": [
  {
   "cell_type": "code",
   "execution_count": 1,
   "metadata": {},
   "outputs": [
    {
     "name": "stdout",
     "output_type": "stream",
     "text": [
      "Processing folder, D:\\Study\\Research\\Sem02_AppliedProject\\Dataset\\BUZZ Dataset\\BUZZ1_FULL\\BUZZ1\\noise\n",
      "Processing folder, D:\\Study\\Research\\Sem02_AppliedProject\\Dataset\\BUZZ Dataset\\BUZZ1_FULL\\BUZZ1\\out_of_sample_data_for_validation\\bee_test\n",
      "Processing folder, D:\\Study\\Research\\Sem02_AppliedProject\\Dataset\\BUZZ Dataset\\BUZZ1_FULL\\BUZZ1\\out_of_sample_data_for_validation\\cricket_test\n",
      "Processing folder, D:\\Study\\Research\\Sem02_AppliedProject\\Dataset\\BUZZ Dataset\\BUZZ1_FULL\\BUZZ1\\out_of_sample_data_for_validation\\noise_test\n",
      "Processing complete!\n"
     ]
    }
   ],
   "source": [
    "import os\n",
    "import librosa\n",
    "import librosa.display\n",
    "import matplotlib.pyplot as plt\n",
    "import numpy as np\n",
    "\n",
    "# Function to create and save MFCC images\n",
    "def create_and_save_mfcc(wav_file, output_folder, file_name):\n",
    "    y, sr = librosa.load(wav_file)\n",
    "    y = librosa.util.normalize(y)\n",
    "    mfcc = librosa.feature.mfcc(y=y, sr=sr, n_mfcc=25)\n",
    "    #out_of_sample_data_for_validation without LDA Accuracy: 87.65%\tResize to 32x32 pixels \tMFCC=25 RF=400 RGB \t*\n",
    "    \n",
    "    # plt.figure(figsize=(10, 4))\n",
    "    # librosa.display.specshow(mfcc, x_axis='time')\n",
    "    # plt.colorbar()\n",
    "    # plt.title('MFCC')\n",
    "    # plt.tight_layout()\n",
    "    \n",
    "    plt.figure(figsize=(10, 4), dpi=100)\n",
    "    librosa.display.specshow(mfcc) #, x_axis='time')\n",
    "    # plt.colorbar()\n",
    "    # plt.title('MFCC')\n",
    "    plt.tight_layout()\n",
    "    \n",
    "    mfcc_image_path = os.path.join(output_folder, f'MFCC_{file_name}.png')\n",
    "    plt.savefig(mfcc_image_path)\n",
    "    plt.close()\n",
    "\n",
    "\n",
    "# Function to process all wav files in a folder\n",
    "def process_wav_files(input_folder, mfcc_output_folder, mel_output_folder):\n",
    "    # Create output directories if they do not exist\n",
    "    os.makedirs(mfcc_output_folder, exist_ok=True)\n",
    "    os.makedirs(mel_output_folder, exist_ok=True)\n",
    "    \n",
    "    # Loop through each wav file in the input folder\n",
    "    for file in os.listdir(input_folder):\n",
    "        if file.endswith(\".wav\"):\n",
    "            file_path = os.path.join(input_folder, file)\n",
    "            file_name = os.path.splitext(file)[0]  # Get the file name without the extension\n",
    "            \n",
    "            # Create MFCC and Mel spectrogram images\n",
    "            create_and_save_mfcc(file_path, mfcc_output_folder, file_name)\n",
    "            # create_and_save_mel_spectrogram(file_path, mel_output_folder, file_name)\n",
    "\n",
    "# Paths for the input and output folders\n",
    "train_folder_1 = \"D:\\\\Study\\\\Research\\\\Sem02_AppliedProject\\\\Dataset\\\\BUZZ Dataset\\\\BUZZ1_FULL\\\\BUZZ1\\\\bee\"\n",
    "train_folder_2 = \"D:\\\\Study\\\\Research\\\\Sem02_AppliedProject\\\\Dataset\\\\BUZZ Dataset\\\\BUZZ1_FULL\\\\BUZZ1\\\\cricket\"\n",
    "train_folder_3 = \"D:\\\\Study\\\\Research\\\\Sem02_AppliedProject\\\\Dataset\\\\BUZZ Dataset\\\\BUZZ1_FULL\\\\BUZZ1\\\\noise\"\n",
    "\n",
    "test_folder_1 = \"D:\\\\Study\\\\Research\\\\Sem02_AppliedProject\\\\Dataset\\\\BUZZ Dataset\\\\BUZZ1_FULL\\\\BUZZ1\\\\out_of_sample_data_for_validation\\\\bee_test\"\n",
    "test_folder_2 = \"D:\\\\Study\\\\Research\\\\Sem02_AppliedProject\\\\Dataset\\\\BUZZ Dataset\\\\BUZZ1_FULL\\\\BUZZ1\\\\out_of_sample_data_for_validation\\\\cricket_test\"\n",
    "test_folder_3 = \"D:\\\\Study\\\\Research\\\\Sem02_AppliedProject\\\\Dataset\\\\BUZZ Dataset\\\\BUZZ1_FULL\\\\BUZZ1\\\\out_of_sample_data_for_validation\\\\noise_test\"\n",
    "\n",
    "folders = [\n",
    "    # (train_folder_1, train_folder_1+\"\\\\train_MFCC25_NZ_folder_1\", train_folder_1+\"\\\\train_MEL_folder_1\"),\n",
    "    # (train_folder_2, train_folder_2+\"\\\\train_MFCC25_NZ_folder_2\", train_folder_2+\"\\\\train_MEL_folder_2\"),\n",
    "    (train_folder_3, train_folder_3+\"\\\\train_MFCC25_NZ_folder_3\", train_folder_3+\"\\\\train_MEL_folder_3\"),\n",
    "    (test_folder_1, test_folder_1+\"\\\\train_MFCC25_NZ_folder_1\", test_folder_1+\"\\\\train_MEL_folder_1\"),\n",
    "    (test_folder_2, test_folder_2+\"\\\\train_MFCC25_NZ_folder_2\", test_folder_2+\"\\\\train_MEL_folder_2\"),\n",
    "    (test_folder_3, test_folder_3+\"\\\\train_MFCC25_NZ_folder_3\", test_folder_3+\"\\\\train_MEL_folder_3\"),\n",
    "]\n",
    "\n",
    "# Process all folders\n",
    "for input_folder, mfcc_output_folder, mel_output_folder in folders:\n",
    "    print(\"Processing folder, \"+input_folder)\n",
    "    process_wav_files(input_folder, mfcc_output_folder, mel_output_folder)\n",
    "\n",
    "print(\"Processing complete!\")\n"
   ]
  }
 ],
 "metadata": {
  "kernelspec": {
   "display_name": "Python 3",
   "language": "python",
   "name": "python3"
  },
  "language_info": {
   "codemirror_mode": {
    "name": "ipython",
    "version": 3
   },
   "file_extension": ".py",
   "mimetype": "text/x-python",
   "name": "python",
   "nbconvert_exporter": "python",
   "pygments_lexer": "ipython3",
   "version": "3.12.6"
  }
 },
 "nbformat": 4,
 "nbformat_minor": 2
}
